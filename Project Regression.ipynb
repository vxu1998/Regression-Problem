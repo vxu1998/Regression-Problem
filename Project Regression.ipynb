{
 "cells": [
  {
   "cell_type": "code",
   "execution_count": 179,
   "metadata": {
    "ExecuteTime": {
     "end_time": "2021-04-14T11:00:13.706609Z",
     "start_time": "2021-04-14T11:00:13.698784Z"
    }
   },
   "outputs": [],
   "source": [
    "import pandas as pd\n",
    "import numpy as np\n",
    "from sklearn.preprocessing import MinMaxScaler\n",
    "from sklearn.preprocessing import StandardScaler\n",
    "from sklearn.linear_model import LinearRegression\n",
    "from sklearn.tree import DecisionTreeRegressor\n",
    "from sklearn.neighbors import KNeighborsRegressor\n",
    "from sklearn.ensemble import RandomForestRegressor\n",
    "import xgboost as xgb\n",
    "from sklearn.model_selection import cross_val_score\n",
    "from sklearn.model_selection import KFold\n",
    "from sklearn.model_selection import GridSearchCV\n",
    "from sklearn.model_selection import StratifiedKFold"
   ]
  },
  {
   "cell_type": "code",
   "execution_count": 2,
   "metadata": {
    "ExecuteTime": {
     "end_time": "2021-04-14T09:23:25.975743Z",
     "start_time": "2021-04-14T09:23:25.956235Z"
    }
   },
   "outputs": [],
   "source": [
    "df_train = pd.read_csv('option_train.csv')\n",
    "df_test = pd.read_csv('option_test_wolabel.csv')"
   ]
  },
  {
   "cell_type": "code",
   "execution_count": 385,
   "metadata": {
    "ExecuteTime": {
     "end_time": "2021-04-14T16:58:50.365197Z",
     "start_time": "2021-04-14T16:58:50.337242Z"
    }
   },
   "outputs": [
    {
     "data": {
      "text/html": [
       "<div>\n",
       "<style scoped>\n",
       "    .dataframe tbody tr th:only-of-type {\n",
       "        vertical-align: middle;\n",
       "    }\n",
       "\n",
       "    .dataframe tbody tr th {\n",
       "        vertical-align: top;\n",
       "    }\n",
       "\n",
       "    .dataframe thead th {\n",
       "        text-align: right;\n",
       "    }\n",
       "</style>\n",
       "<table border=\"1\" class=\"dataframe\">\n",
       "  <thead>\n",
       "    <tr style=\"text-align: right;\">\n",
       "      <th></th>\n",
       "      <th>Value</th>\n",
       "      <th>S</th>\n",
       "      <th>K</th>\n",
       "      <th>tau</th>\n",
       "      <th>r</th>\n",
       "      <th>BS</th>\n",
       "    </tr>\n",
       "  </thead>\n",
       "  <tbody>\n",
       "    <tr>\n",
       "      <th>0</th>\n",
       "      <td>21.670404</td>\n",
       "      <td>431.623898</td>\n",
       "      <td>420</td>\n",
       "      <td>0.341270</td>\n",
       "      <td>0.03013</td>\n",
       "      <td>0</td>\n",
       "    </tr>\n",
       "    <tr>\n",
       "      <th>1</th>\n",
       "      <td>0.125000</td>\n",
       "      <td>427.015526</td>\n",
       "      <td>465</td>\n",
       "      <td>0.166667</td>\n",
       "      <td>0.03126</td>\n",
       "      <td>1</td>\n",
       "    </tr>\n",
       "    <tr>\n",
       "      <th>2</th>\n",
       "      <td>20.691244</td>\n",
       "      <td>427.762336</td>\n",
       "      <td>415</td>\n",
       "      <td>0.265873</td>\n",
       "      <td>0.03116</td>\n",
       "      <td>0</td>\n",
       "    </tr>\n",
       "    <tr>\n",
       "      <th>3</th>\n",
       "      <td>1.035002</td>\n",
       "      <td>451.711658</td>\n",
       "      <td>460</td>\n",
       "      <td>0.063492</td>\n",
       "      <td>0.02972</td>\n",
       "      <td>1</td>\n",
       "    </tr>\n",
       "    <tr>\n",
       "      <th>4</th>\n",
       "      <td>39.553020</td>\n",
       "      <td>446.718974</td>\n",
       "      <td>410</td>\n",
       "      <td>0.166667</td>\n",
       "      <td>0.02962</td>\n",
       "      <td>0</td>\n",
       "    </tr>\n",
       "    <tr>\n",
       "      <th>...</th>\n",
       "      <td>...</td>\n",
       "      <td>...</td>\n",
       "      <td>...</td>\n",
       "      <td>...</td>\n",
       "      <td>...</td>\n",
       "      <td>...</td>\n",
       "    </tr>\n",
       "    <tr>\n",
       "      <th>1675</th>\n",
       "      <td>1.470000</td>\n",
       "      <td>444.397163</td>\n",
       "      <td>475</td>\n",
       "      <td>0.273810</td>\n",
       "      <td>0.03034</td>\n",
       "      <td>1</td>\n",
       "    </tr>\n",
       "    <tr>\n",
       "      <th>1676</th>\n",
       "      <td>34.927317</td>\n",
       "      <td>438.453825</td>\n",
       "      <td>410</td>\n",
       "      <td>0.301587</td>\n",
       "      <td>0.02972</td>\n",
       "      <td>0</td>\n",
       "    </tr>\n",
       "    <tr>\n",
       "      <th>1677</th>\n",
       "      <td>41.127997</td>\n",
       "      <td>428.042219</td>\n",
       "      <td>390</td>\n",
       "      <td>0.170635</td>\n",
       "      <td>0.03188</td>\n",
       "      <td>0</td>\n",
       "    </tr>\n",
       "    <tr>\n",
       "      <th>1678</th>\n",
       "      <td>0.440003</td>\n",
       "      <td>439.081203</td>\n",
       "      <td>480</td>\n",
       "      <td>0.293651</td>\n",
       "      <td>0.02962</td>\n",
       "      <td>1</td>\n",
       "    </tr>\n",
       "    <tr>\n",
       "      <th>1679</th>\n",
       "      <td>0.410002</td>\n",
       "      <td>432.167692</td>\n",
       "      <td>465</td>\n",
       "      <td>0.218254</td>\n",
       "      <td>0.02993</td>\n",
       "      <td>1</td>\n",
       "    </tr>\n",
       "  </tbody>\n",
       "</table>\n",
       "<p>1680 rows × 6 columns</p>\n",
       "</div>"
      ],
      "text/plain": [
       "          Value           S    K       tau        r BS\n",
       "0     21.670404  431.623898  420  0.341270  0.03013  0\n",
       "1      0.125000  427.015526  465  0.166667  0.03126  1\n",
       "2     20.691244  427.762336  415  0.265873  0.03116  0\n",
       "3      1.035002  451.711658  460  0.063492  0.02972  1\n",
       "4     39.553020  446.718974  410  0.166667  0.02962  0\n",
       "...         ...         ...  ...       ...      ... ..\n",
       "1675   1.470000  444.397163  475  0.273810  0.03034  1\n",
       "1676  34.927317  438.453825  410  0.301587  0.02972  0\n",
       "1677  41.127997  428.042219  390  0.170635  0.03188  0\n",
       "1678   0.440003  439.081203  480  0.293651  0.02962  1\n",
       "1679   0.410002  432.167692  465  0.218254  0.02993  1\n",
       "\n",
       "[1680 rows x 6 columns]"
      ]
     },
     "execution_count": 385,
     "metadata": {},
     "output_type": "execute_result"
    }
   ],
   "source": [
    "df_train"
   ]
  },
  {
   "cell_type": "markdown",
   "metadata": {},
   "source": [
    "#### Regression Dataset"
   ]
  },
  {
   "cell_type": "code",
   "execution_count": 3,
   "metadata": {
    "ExecuteTime": {
     "end_time": "2021-04-14T09:24:33.741360Z",
     "start_time": "2021-04-14T09:24:33.725158Z"
    }
   },
   "outputs": [],
   "source": [
    "df_train.loc[df_train['BS']=='Under','BS']=0\n",
    "df_train.loc[df_train['BS']=='Over','BS']=1\n",
    "X_train = df_train.iloc[:, 1:5]\n",
    "y_train = df_train.iloc[:, 0]"
   ]
  },
  {
   "cell_type": "code",
   "execution_count": 6,
   "metadata": {
    "ExecuteTime": {
     "end_time": "2021-04-14T09:25:11.322117Z",
     "start_time": "2021-04-14T09:25:11.307299Z"
    }
   },
   "outputs": [],
   "source": [
    "mms = MinMaxScaler()\n",
    "X_train_norm = mms.fit_transform(X_train)"
   ]
  },
  {
   "cell_type": "code",
   "execution_count": 7,
   "metadata": {
    "ExecuteTime": {
     "end_time": "2021-04-14T09:25:11.923277Z",
     "start_time": "2021-04-14T09:25:11.912081Z"
    }
   },
   "outputs": [],
   "source": [
    "stdsc = StandardScaler()\n",
    "X_train_std = stdsc.fit_transform(X_train)"
   ]
  },
  {
   "cell_type": "markdown",
   "metadata": {},
   "source": [
    "##### Model Performance"
   ]
  },
  {
   "cell_type": "code",
   "execution_count": 131,
   "metadata": {
    "ExecuteTime": {
     "end_time": "2021-04-14T10:31:39.872775Z",
     "start_time": "2021-04-14T10:31:39.866221Z"
    }
   },
   "outputs": [],
   "source": [
    "models = [LinearRegression(),KNeighborsRegressor(),DecisionTreeRegressor(), RandomForestRegressor(),xgb.XGBRegressor()]"
   ]
  },
  {
   "cell_type": "code",
   "execution_count": 132,
   "metadata": {
    "ExecuteTime": {
     "end_time": "2021-04-14T10:31:41.576445Z",
     "start_time": "2021-04-14T10:31:41.567707Z"
    }
   },
   "outputs": [],
   "source": [
    "list = ['LinearRegression','KNN','DecisionTree','RandomForest','XGBoost']"
   ]
  },
  {
   "cell_type": "code",
   "execution_count": 186,
   "metadata": {
    "ExecuteTime": {
     "end_time": "2021-04-14T11:02:53.003057Z",
     "start_time": "2021-04-14T11:02:52.995962Z"
    }
   },
   "outputs": [],
   "source": [
    "kfolds10_regresssion = KFold(n_splits=10, random_state=0, shuffle=True)"
   ]
  },
  {
   "cell_type": "code",
   "execution_count": 187,
   "metadata": {
    "ExecuteTime": {
     "end_time": "2021-04-14T11:02:56.873538Z",
     "start_time": "2021-04-14T11:02:56.866590Z"
    }
   },
   "outputs": [],
   "source": [
    "kfolds5_regresssion = KFold(n_splits=5, random_state=0, shuffle=True)"
   ]
  },
  {
   "cell_type": "code",
   "execution_count": 188,
   "metadata": {
    "ExecuteTime": {
     "end_time": "2021-04-14T11:03:28.682267Z",
     "start_time": "2021-04-14T11:02:58.774702Z"
    }
   },
   "outputs": [],
   "source": [
    "result = []\n",
    "for model in models:\n",
    "    value1 = np.mean(cross_val_score(model.fit(X_train_norm,y_train), X_train_norm,\n",
    "                        y_train,cv=kfolds10_regresssion))\n",
    "    value2 = np.mean(cross_val_score(model.fit(X_train_norm,y_train), X_train_norm,\n",
    "                        y_train,cv=kfolds5_regresssion))\n",
    "    value3 = np.mean(cross_val_score(model.fit(X_train_std,y_train), X_train_norm,\n",
    "                        y_train,cv=kfolds10_regresssion))\n",
    "    value4 = np.mean(cross_val_score(model.fit(X_train_std,y_train), X_train_norm,\n",
    "                        y_train,cv=kfolds5_regresssion))\n",
    "    value5 = np.mean(cross_val_score(model.fit(X_train.values,y_train), X_train_norm,\n",
    "                        y_train,cv=kfolds10_regresssion))\n",
    "    value6 = np.mean(cross_val_score(model.fit(X_train.values,y_train), X_train_norm,\n",
    "                        y_train,cv=kfolds5_regresssion))\n",
    "    result.append({'Model': model,\n",
    "                           '10 folds Norm': value1,\n",
    "                            '5 folds Norm':value2,\n",
    "                            '10 folds Std': value3,\n",
    "                            '5 folds Std':value4,\n",
    "                            '10 folds':value5,\n",
    "                            '5 folds':value6})\n",
    "model_performance = pd.DataFrame(result)"
   ]
  },
  {
   "cell_type": "code",
   "execution_count": 189,
   "metadata": {
    "ExecuteTime": {
     "end_time": "2021-04-14T11:03:28.727895Z",
     "start_time": "2021-04-14T11:03:28.688263Z"
    }
   },
   "outputs": [
    {
     "data": {
      "text/html": [
       "<div>\n",
       "<style scoped>\n",
       "    .dataframe tbody tr th:only-of-type {\n",
       "        vertical-align: middle;\n",
       "    }\n",
       "\n",
       "    .dataframe tbody tr th {\n",
       "        vertical-align: top;\n",
       "    }\n",
       "\n",
       "    .dataframe thead th {\n",
       "        text-align: right;\n",
       "    }\n",
       "</style>\n",
       "<table border=\"1\" class=\"dataframe\">\n",
       "  <thead>\n",
       "    <tr style=\"text-align: right;\">\n",
       "      <th></th>\n",
       "      <th>Model</th>\n",
       "      <th>10 folds Norm</th>\n",
       "      <th>5 folds Norm</th>\n",
       "      <th>10 folds Std</th>\n",
       "      <th>5 folds Std</th>\n",
       "      <th>10 folds</th>\n",
       "      <th>5 folds</th>\n",
       "    </tr>\n",
       "  </thead>\n",
       "  <tbody>\n",
       "    <tr>\n",
       "      <th>0</th>\n",
       "      <td>Linear Regression</td>\n",
       "      <td>0.910783</td>\n",
       "      <td>0.911024</td>\n",
       "      <td>0.910783</td>\n",
       "      <td>0.911024</td>\n",
       "      <td>0.910783</td>\n",
       "      <td>0.911024</td>\n",
       "    </tr>\n",
       "    <tr>\n",
       "      <th>1</th>\n",
       "      <td>KNN</td>\n",
       "      <td>0.973689</td>\n",
       "      <td>0.971801</td>\n",
       "      <td>0.973689</td>\n",
       "      <td>0.971801</td>\n",
       "      <td>0.973689</td>\n",
       "      <td>0.971801</td>\n",
       "    </tr>\n",
       "    <tr>\n",
       "      <th>2</th>\n",
       "      <td>Decision Tree</td>\n",
       "      <td>0.992295</td>\n",
       "      <td>0.991240</td>\n",
       "      <td>0.992327</td>\n",
       "      <td>0.991318</td>\n",
       "      <td>0.992094</td>\n",
       "      <td>0.991357</td>\n",
       "    </tr>\n",
       "    <tr>\n",
       "      <th>3</th>\n",
       "      <td>Random Forest</td>\n",
       "      <td>0.996324</td>\n",
       "      <td>0.995986</td>\n",
       "      <td>0.996373</td>\n",
       "      <td>0.995878</td>\n",
       "      <td>0.996361</td>\n",
       "      <td>0.995903</td>\n",
       "    </tr>\n",
       "    <tr>\n",
       "      <th>4</th>\n",
       "      <td>XGBoost</td>\n",
       "      <td>0.998208</td>\n",
       "      <td>0.997947</td>\n",
       "      <td>0.998208</td>\n",
       "      <td>0.997947</td>\n",
       "      <td>0.998208</td>\n",
       "      <td>0.997947</td>\n",
       "    </tr>\n",
       "  </tbody>\n",
       "</table>\n",
       "</div>"
      ],
      "text/plain": [
       "               Model  10 folds Norm  5 folds Norm  10 folds Std  5 folds Std  \\\n",
       "0  Linear Regression       0.910783      0.911024      0.910783     0.911024   \n",
       "1                KNN       0.973689      0.971801      0.973689     0.971801   \n",
       "2      Decision Tree       0.992295      0.991240      0.992327     0.991318   \n",
       "3      Random Forest       0.996324      0.995986      0.996373     0.995878   \n",
       "4            XGBoost       0.998208      0.997947      0.998208     0.997947   \n",
       "\n",
       "   10 folds   5 folds  \n",
       "0  0.910783  0.911024  \n",
       "1  0.973689  0.971801  \n",
       "2  0.992094  0.991357  \n",
       "3  0.996361  0.995903  \n",
       "4  0.998208  0.997947  "
      ]
     },
     "execution_count": 189,
     "metadata": {},
     "output_type": "execute_result"
    }
   ],
   "source": [
    "model_performance.iloc[:,0] = ['Linear Regression','KNN','Decision Tree','Random Forest',\n",
    "                              'XGBoost']\n",
    "model_performance"
   ]
  },
  {
   "cell_type": "markdown",
   "metadata": {},
   "source": [
    "#### GridSearch for XGboost"
   ]
  },
  {
   "cell_type": "code",
   "execution_count": 371,
   "metadata": {
    "ExecuteTime": {
     "end_time": "2021-04-14T16:50:52.159526Z",
     "start_time": "2021-04-14T16:50:52.153869Z"
    }
   },
   "outputs": [],
   "source": [
    "gbm_param_grid = {\n",
    "     'colsample_bytree': np.linspace(0.5, 0.9, 5),\n",
    "     'n_estimators':[1000,1200],\n",
    "     'max_depth': [2,3,4]\n",
    "}"
   ]
  },
  {
   "cell_type": "code",
   "execution_count": 372,
   "metadata": {
    "ExecuteTime": {
     "end_time": "2021-04-14T16:50:53.036336Z",
     "start_time": "2021-04-14T16:50:52.670465Z"
    }
   },
   "outputs": [
    {
     "data": {
      "text/plain": [
       "XGBRegressor(base_score=0.5, booster='gbtree', colsample_bylevel=1,\n",
       "             colsample_bynode=1, colsample_bytree=1, gamma=0, gpu_id=-1,\n",
       "             importance_type='gain', interaction_constraints='',\n",
       "             learning_rate=0.300000012, max_delta_step=0, max_depth=6,\n",
       "             min_child_weight=1, missing=nan, monotone_constraints='()',\n",
       "             n_estimators=100, n_jobs=4, num_parallel_tree=1, random_state=0,\n",
       "             reg_alpha=0, reg_lambda=1, scale_pos_weight=1, subsample=1,\n",
       "             tree_method='exact', validate_parameters=1, verbosity=None)"
      ]
     },
     "execution_count": 372,
     "metadata": {},
     "output_type": "execute_result"
    }
   ],
   "source": [
    "XGB_reg = xgb.XGBRegressor()\n",
    "XGB_reg.fit(X_train,y_train)"
   ]
  },
  {
   "cell_type": "code",
   "execution_count": 373,
   "metadata": {
    "ExecuteTime": {
     "end_time": "2021-04-14T16:50:54.183892Z",
     "start_time": "2021-04-14T16:50:54.169924Z"
    }
   },
   "outputs": [],
   "source": [
    "grid_search = GridSearchCV(estimator = XGB_reg, param_grid = gbm_param_grid, scoring = 'neg_mean_squared_error', cv = 10, verbose = 1)"
   ]
  },
  {
   "cell_type": "code",
   "execution_count": 374,
   "metadata": {
    "ExecuteTime": {
     "end_time": "2021-04-14T16:54:27.918669Z",
     "start_time": "2021-04-14T16:50:55.979271Z"
    }
   },
   "outputs": [
    {
     "name": "stdout",
     "output_type": "stream",
     "text": [
      "Fitting 10 folds for each of 30 candidates, totalling 300 fits\n"
     ]
    },
    {
     "data": {
      "text/plain": [
       "GridSearchCV(cv=10,\n",
       "             estimator=XGBRegressor(base_score=0.5, booster='gbtree',\n",
       "                                    colsample_bylevel=1, colsample_bynode=1,\n",
       "                                    colsample_bytree=1, gamma=0, gpu_id=-1,\n",
       "                                    importance_type='gain',\n",
       "                                    interaction_constraints='',\n",
       "                                    learning_rate=0.300000012, max_delta_step=0,\n",
       "                                    max_depth=6, min_child_weight=1,\n",
       "                                    missing=nan, monotone_constraints='()',\n",
       "                                    n_estimators=100, n_jobs=4,\n",
       "                                    num_parallel_tree=1, random_state=0,\n",
       "                                    reg_alpha=0, reg_lambda=1,\n",
       "                                    scale_pos_weight=1, subsample=1,\n",
       "                                    tree_method='exact', validate_parameters=1,\n",
       "                                    verbosity=None),\n",
       "             param_grid={'colsample_bytree': array([0.5, 0.6, 0.7, 0.8, 0.9]),\n",
       "                         'max_depth': [2, 3, 4], 'n_estimators': [1000, 1200]},\n",
       "             scoring='neg_mean_squared_error', verbose=1)"
      ]
     },
     "execution_count": 374,
     "metadata": {},
     "output_type": "execute_result"
    }
   ],
   "source": [
    "grid_search.fit(X_train, y_train)"
   ]
  },
  {
   "cell_type": "code",
   "execution_count": 375,
   "metadata": {
    "ExecuteTime": {
     "end_time": "2021-04-14T16:54:27.931906Z",
     "start_time": "2021-04-14T16:54:27.923547Z"
    }
   },
   "outputs": [
    {
     "data": {
      "text/plain": [
       "{'colsample_bytree': 0.8, 'max_depth': 3, 'n_estimators': 1200}"
      ]
     },
     "execution_count": 375,
     "metadata": {},
     "output_type": "execute_result"
    }
   ],
   "source": [
    "grid_search.best_params_"
   ]
  },
  {
   "cell_type": "code",
   "execution_count": 376,
   "metadata": {
    "ExecuteTime": {
     "end_time": "2021-04-14T16:54:33.905009Z",
     "start_time": "2021-04-14T16:54:33.898753Z"
    }
   },
   "outputs": [],
   "source": [
    "final_prediction_model = grid_search.best_estimator_"
   ]
  },
  {
   "cell_type": "code",
   "execution_count": 377,
   "metadata": {
    "ExecuteTime": {
     "end_time": "2021-04-14T16:54:34.655186Z",
     "start_time": "2021-04-14T16:54:34.628268Z"
    }
   },
   "outputs": [
    {
     "data": {
      "text/html": [
       "<div>\n",
       "<style scoped>\n",
       "    .dataframe tbody tr th:only-of-type {\n",
       "        vertical-align: middle;\n",
       "    }\n",
       "\n",
       "    .dataframe tbody tr th {\n",
       "        vertical-align: top;\n",
       "    }\n",
       "\n",
       "    .dataframe thead th {\n",
       "        text-align: right;\n",
       "    }\n",
       "</style>\n",
       "<table border=\"1\" class=\"dataframe\">\n",
       "  <thead>\n",
       "    <tr style=\"text-align: right;\">\n",
       "      <th></th>\n",
       "      <th>S</th>\n",
       "      <th>K</th>\n",
       "      <th>tau</th>\n",
       "      <th>r</th>\n",
       "    </tr>\n",
       "  </thead>\n",
       "  <tbody>\n",
       "    <tr>\n",
       "      <th>0</th>\n",
       "      <td>431.618600</td>\n",
       "      <td>460</td>\n",
       "      <td>0.293651</td>\n",
       "      <td>0.03147</td>\n",
       "    </tr>\n",
       "    <tr>\n",
       "      <th>1</th>\n",
       "      <td>432.633296</td>\n",
       "      <td>420</td>\n",
       "      <td>0.182540</td>\n",
       "      <td>0.03147</td>\n",
       "    </tr>\n",
       "    <tr>\n",
       "      <th>2</th>\n",
       "      <td>432.633296</td>\n",
       "      <td>430</td>\n",
       "      <td>0.182540</td>\n",
       "      <td>0.03147</td>\n",
       "    </tr>\n",
       "    <tr>\n",
       "      <th>3</th>\n",
       "      <td>431.618600</td>\n",
       "      <td>415</td>\n",
       "      <td>0.293651</td>\n",
       "      <td>0.03147</td>\n",
       "    </tr>\n",
       "    <tr>\n",
       "      <th>4</th>\n",
       "      <td>434.772855</td>\n",
       "      <td>420</td>\n",
       "      <td>0.043651</td>\n",
       "      <td>0.03147</td>\n",
       "    </tr>\n",
       "    <tr>\n",
       "      <th>...</th>\n",
       "      <td>...</td>\n",
       "      <td>...</td>\n",
       "      <td>...</td>\n",
       "      <td>...</td>\n",
       "    </tr>\n",
       "    <tr>\n",
       "      <th>1115</th>\n",
       "      <td>440.067417</td>\n",
       "      <td>435</td>\n",
       "      <td>0.182540</td>\n",
       "      <td>0.02962</td>\n",
       "    </tr>\n",
       "    <tr>\n",
       "      <th>1116</th>\n",
       "      <td>439.081203</td>\n",
       "      <td>485</td>\n",
       "      <td>0.293651</td>\n",
       "      <td>0.02962</td>\n",
       "    </tr>\n",
       "    <tr>\n",
       "      <th>1117</th>\n",
       "      <td>439.081203</td>\n",
       "      <td>475</td>\n",
       "      <td>0.293651</td>\n",
       "      <td>0.02962</td>\n",
       "    </tr>\n",
       "    <tr>\n",
       "      <th>1118</th>\n",
       "      <td>442.490015</td>\n",
       "      <td>420</td>\n",
       "      <td>0.043651</td>\n",
       "      <td>0.02962</td>\n",
       "    </tr>\n",
       "    <tr>\n",
       "      <th>1119</th>\n",
       "      <td>440.067417</td>\n",
       "      <td>430</td>\n",
       "      <td>0.182540</td>\n",
       "      <td>0.02962</td>\n",
       "    </tr>\n",
       "  </tbody>\n",
       "</table>\n",
       "<p>1120 rows × 4 columns</p>\n",
       "</div>"
      ],
      "text/plain": [
       "               S    K       tau        r\n",
       "0     431.618600  460  0.293651  0.03147\n",
       "1     432.633296  420  0.182540  0.03147\n",
       "2     432.633296  430  0.182540  0.03147\n",
       "3     431.618600  415  0.293651  0.03147\n",
       "4     434.772855  420  0.043651  0.03147\n",
       "...          ...  ...       ...      ...\n",
       "1115  440.067417  435  0.182540  0.02962\n",
       "1116  439.081203  485  0.293651  0.02962\n",
       "1117  439.081203  475  0.293651  0.02962\n",
       "1118  442.490015  420  0.043651  0.02962\n",
       "1119  440.067417  430  0.182540  0.02962\n",
       "\n",
       "[1120 rows x 4 columns]"
      ]
     },
     "execution_count": 377,
     "metadata": {},
     "output_type": "execute_result"
    }
   ],
   "source": [
    "X_test = df_test.iloc[:, 0:5]\n",
    "X_test"
   ]
  },
  {
   "cell_type": "code",
   "execution_count": 378,
   "metadata": {
    "ExecuteTime": {
     "end_time": "2021-04-14T16:54:35.320040Z",
     "start_time": "2021-04-14T16:54:35.289700Z"
    }
   },
   "outputs": [
    {
     "data": {
      "text/plain": [
       "array([ 1.4864992, 17.880358 , 10.839184 , ...,  1.1317836, 24.381945 ,\n",
       "       16.417355 ], dtype=float32)"
      ]
     },
     "execution_count": 378,
     "metadata": {},
     "output_type": "execute_result"
    }
   ],
   "source": [
    "final_reg_predictions = final_prediction_model.predict(df_test)\n",
    "final_reg_predictions"
   ]
  },
  {
   "cell_type": "code",
   "execution_count": 379,
   "metadata": {
    "ExecuteTime": {
     "end_time": "2021-04-14T16:54:35.984233Z",
     "start_time": "2021-04-14T16:54:35.974846Z"
    }
   },
   "outputs": [],
   "source": [
    "final_prediction = pd.DataFrame(final_reg_predictions,\n",
    "             columns=['Value'])"
   ]
  },
  {
   "cell_type": "code",
   "execution_count": 380,
   "metadata": {
    "ExecuteTime": {
     "end_time": "2021-04-14T16:54:36.625321Z",
     "start_time": "2021-04-14T16:54:36.607725Z"
    }
   },
   "outputs": [
    {
     "data": {
      "text/html": [
       "<div>\n",
       "<style scoped>\n",
       "    .dataframe tbody tr th:only-of-type {\n",
       "        vertical-align: middle;\n",
       "    }\n",
       "\n",
       "    .dataframe tbody tr th {\n",
       "        vertical-align: top;\n",
       "    }\n",
       "\n",
       "    .dataframe thead th {\n",
       "        text-align: right;\n",
       "    }\n",
       "</style>\n",
       "<table border=\"1\" class=\"dataframe\">\n",
       "  <thead>\n",
       "    <tr style=\"text-align: right;\">\n",
       "      <th></th>\n",
       "      <th>Value</th>\n",
       "    </tr>\n",
       "  </thead>\n",
       "  <tbody>\n",
       "    <tr>\n",
       "      <th>0</th>\n",
       "      <td>1.486499</td>\n",
       "    </tr>\n",
       "    <tr>\n",
       "      <th>1</th>\n",
       "      <td>17.880358</td>\n",
       "    </tr>\n",
       "    <tr>\n",
       "      <th>2</th>\n",
       "      <td>10.839184</td>\n",
       "    </tr>\n",
       "    <tr>\n",
       "      <th>3</th>\n",
       "      <td>24.284557</td>\n",
       "    </tr>\n",
       "    <tr>\n",
       "      <th>4</th>\n",
       "      <td>15.704806</td>\n",
       "    </tr>\n",
       "    <tr>\n",
       "      <th>...</th>\n",
       "      <td>...</td>\n",
       "    </tr>\n",
       "    <tr>\n",
       "      <th>1115</th>\n",
       "      <td>12.077401</td>\n",
       "    </tr>\n",
       "    <tr>\n",
       "      <th>1116</th>\n",
       "      <td>0.588863</td>\n",
       "    </tr>\n",
       "    <tr>\n",
       "      <th>1117</th>\n",
       "      <td>1.131784</td>\n",
       "    </tr>\n",
       "    <tr>\n",
       "      <th>1118</th>\n",
       "      <td>24.381945</td>\n",
       "    </tr>\n",
       "    <tr>\n",
       "      <th>1119</th>\n",
       "      <td>16.417355</td>\n",
       "    </tr>\n",
       "  </tbody>\n",
       "</table>\n",
       "<p>1120 rows × 1 columns</p>\n",
       "</div>"
      ],
      "text/plain": [
       "          Value\n",
       "0      1.486499\n",
       "1     17.880358\n",
       "2     10.839184\n",
       "3     24.284557\n",
       "4     15.704806\n",
       "...         ...\n",
       "1115  12.077401\n",
       "1116   0.588863\n",
       "1117   1.131784\n",
       "1118  24.381945\n",
       "1119  16.417355\n",
       "\n",
       "[1120 rows x 1 columns]"
      ]
     },
     "execution_count": 380,
     "metadata": {},
     "output_type": "execute_result"
    }
   ],
   "source": [
    "final_prediction"
   ]
  },
  {
   "cell_type": "code",
   "execution_count": 381,
   "metadata": {
    "ExecuteTime": {
     "end_time": "2021-04-14T16:54:39.071718Z",
     "start_time": "2021-04-14T16:54:39.047181Z"
    }
   },
   "outputs": [
    {
     "data": {
      "text/html": [
       "<div>\n",
       "<style scoped>\n",
       "    .dataframe tbody tr th:only-of-type {\n",
       "        vertical-align: middle;\n",
       "    }\n",
       "\n",
       "    .dataframe tbody tr th {\n",
       "        vertical-align: top;\n",
       "    }\n",
       "\n",
       "    .dataframe thead th {\n",
       "        text-align: right;\n",
       "    }\n",
       "</style>\n",
       "<table border=\"1\" class=\"dataframe\">\n",
       "  <thead>\n",
       "    <tr style=\"text-align: right;\">\n",
       "      <th></th>\n",
       "      <th>Value</th>\n",
       "    </tr>\n",
       "  </thead>\n",
       "  <tbody>\n",
       "    <tr>\n",
       "      <th>0</th>\n",
       "      <td>1.544463</td>\n",
       "    </tr>\n",
       "    <tr>\n",
       "      <th>1</th>\n",
       "      <td>17.378826</td>\n",
       "    </tr>\n",
       "    <tr>\n",
       "      <th>2</th>\n",
       "      <td>11.381046</td>\n",
       "    </tr>\n",
       "    <tr>\n",
       "      <th>3</th>\n",
       "      <td>23.616793</td>\n",
       "    </tr>\n",
       "    <tr>\n",
       "      <th>4</th>\n",
       "      <td>15.928064</td>\n",
       "    </tr>\n",
       "    <tr>\n",
       "      <th>...</th>\n",
       "      <td>...</td>\n",
       "    </tr>\n",
       "    <tr>\n",
       "      <th>1115</th>\n",
       "      <td>12.127989</td>\n",
       "    </tr>\n",
       "    <tr>\n",
       "      <th>1116</th>\n",
       "      <td>0.299507</td>\n",
       "    </tr>\n",
       "    <tr>\n",
       "      <th>1117</th>\n",
       "      <td>0.673628</td>\n",
       "    </tr>\n",
       "    <tr>\n",
       "      <th>1118</th>\n",
       "      <td>24.258938</td>\n",
       "    </tr>\n",
       "    <tr>\n",
       "      <th>1119</th>\n",
       "      <td>15.643500</td>\n",
       "    </tr>\n",
       "  </tbody>\n",
       "</table>\n",
       "<p>1120 rows × 1 columns</p>\n",
       "</div>"
      ],
      "text/plain": [
       "          Value\n",
       "0      1.544463\n",
       "1     17.378826\n",
       "2     11.381046\n",
       "3     23.616793\n",
       "4     15.928064\n",
       "...         ...\n",
       "1115  12.127989\n",
       "1116   0.299507\n",
       "1117   0.673628\n",
       "1118  24.258938\n",
       "1119  15.643500\n",
       "\n",
       "[1120 rows x 1 columns]"
      ]
     },
     "execution_count": 381,
     "metadata": {},
     "output_type": "execute_result"
    }
   ],
   "source": [
    "value = XGB_reg.predict(df_test)\n",
    "final = pd.DataFrame(value,\n",
    "             columns=['Value'])\n",
    "final"
   ]
  },
  {
   "cell_type": "markdown",
   "metadata": {
    "heading_collapsed": true
   },
   "source": [
    "#### RMSE"
   ]
  },
  {
   "cell_type": "code",
   "execution_count": 382,
   "metadata": {
    "ExecuteTime": {
     "end_time": "2021-04-14T16:54:39.722471Z",
     "start_time": "2021-04-14T16:54:39.708001Z"
    },
    "hidden": true
   },
   "outputs": [
    {
     "name": "stdout",
     "output_type": "stream",
     "text": [
      "0.5266189762985947 {'colsample_bytree': 0.5, 'max_depth': 2, 'n_estimators': 1000}\n",
      "0.504594949755119 {'colsample_bytree': 0.5, 'max_depth': 2, 'n_estimators': 1200}\n",
      "0.45787960355245777 {'colsample_bytree': 0.5, 'max_depth': 3, 'n_estimators': 1000}\n",
      "0.44934549071377977 {'colsample_bytree': 0.5, 'max_depth': 3, 'n_estimators': 1200}\n",
      "0.46181123537797863 {'colsample_bytree': 0.5, 'max_depth': 4, 'n_estimators': 1000}\n",
      "0.4553844549437876 {'colsample_bytree': 0.5, 'max_depth': 4, 'n_estimators': 1200}\n",
      "0.5266189762985947 {'colsample_bytree': 0.6, 'max_depth': 2, 'n_estimators': 1000}\n",
      "0.504594949755119 {'colsample_bytree': 0.6, 'max_depth': 2, 'n_estimators': 1200}\n",
      "0.45787960355245777 {'colsample_bytree': 0.6, 'max_depth': 3, 'n_estimators': 1000}\n",
      "0.44934549071377977 {'colsample_bytree': 0.6, 'max_depth': 3, 'n_estimators': 1200}\n",
      "0.46181123537797863 {'colsample_bytree': 0.6, 'max_depth': 4, 'n_estimators': 1000}\n",
      "0.4553844549437876 {'colsample_bytree': 0.6, 'max_depth': 4, 'n_estimators': 1200}\n",
      "0.5266189762985947 {'colsample_bytree': 0.7, 'max_depth': 2, 'n_estimators': 1000}\n",
      "0.504594949755119 {'colsample_bytree': 0.7, 'max_depth': 2, 'n_estimators': 1200}\n",
      "0.45787960355245777 {'colsample_bytree': 0.7, 'max_depth': 3, 'n_estimators': 1000}\n",
      "0.44934549071377977 {'colsample_bytree': 0.7, 'max_depth': 3, 'n_estimators': 1200}\n",
      "0.46181123537797863 {'colsample_bytree': 0.7, 'max_depth': 4, 'n_estimators': 1000}\n",
      "0.4553844549437876 {'colsample_bytree': 0.7, 'max_depth': 4, 'n_estimators': 1200}\n",
      "0.49545177826093373 {'colsample_bytree': 0.8, 'max_depth': 2, 'n_estimators': 1000}\n",
      "0.4805516450874307 {'colsample_bytree': 0.8, 'max_depth': 2, 'n_estimators': 1200}\n",
      "0.3867704862042464 {'colsample_bytree': 0.8, 'max_depth': 3, 'n_estimators': 1000}\n",
      "0.37758487217910214 {'colsample_bytree': 0.8, 'max_depth': 3, 'n_estimators': 1200}\n",
      "0.40993286552008634 {'colsample_bytree': 0.8, 'max_depth': 4, 'n_estimators': 1000}\n",
      "0.40624470918382255 {'colsample_bytree': 0.8, 'max_depth': 4, 'n_estimators': 1200}\n",
      "0.49545177826093373 {'colsample_bytree': 0.9, 'max_depth': 2, 'n_estimators': 1000}\n",
      "0.4805516450874307 {'colsample_bytree': 0.9, 'max_depth': 2, 'n_estimators': 1200}\n",
      "0.3867704862042464 {'colsample_bytree': 0.9, 'max_depth': 3, 'n_estimators': 1000}\n",
      "0.37758487217910214 {'colsample_bytree': 0.9, 'max_depth': 3, 'n_estimators': 1200}\n",
      "0.40993286552008634 {'colsample_bytree': 0.9, 'max_depth': 4, 'n_estimators': 1000}\n",
      "0.40624470918382255 {'colsample_bytree': 0.9, 'max_depth': 4, 'n_estimators': 1200}\n"
     ]
    }
   ],
   "source": [
    "cvres = grid_search.cv_results_\n",
    "for mean_score, params in zip(cvres['mean_test_score'],cvres['params']):\n",
    "    print(np.sqrt(-mean_score),params)"
   ]
  },
  {
   "cell_type": "code",
   "execution_count": 386,
   "metadata": {
    "ExecuteTime": {
     "end_time": "2021-04-14T17:01:56.329908Z",
     "start_time": "2021-04-14T17:01:51.484766Z"
    },
    "hidden": true
   },
   "outputs": [],
   "source": [
    "xgb_reg = RF_reg.fit(X_train,y_train)\n",
    "xgv_cv = cross_val_score(xgb_reg,X_train,y_train, scoring='neg_mean_squared_error',cv=kfolds10_regresssion)\n",
    "score = np.sqrt(-xgv_cv)"
   ]
  },
  {
   "cell_type": "code",
   "execution_count": 387,
   "metadata": {
    "ExecuteTime": {
     "end_time": "2021-04-14T17:01:56.347945Z",
     "start_time": "2021-04-14T17:01:56.332985Z"
    },
    "hidden": true
   },
   "outputs": [
    {
     "data": {
      "text/plain": [
       "0.8215915573354072"
      ]
     },
     "execution_count": 387,
     "metadata": {},
     "output_type": "execute_result"
    }
   ],
   "source": [
    "score.mean()"
   ]
  },
  {
   "cell_type": "code",
   "execution_count": null,
   "metadata": {
    "hidden": true
   },
   "outputs": [],
   "source": []
  }
 ],
 "metadata": {
  "kernelspec": {
   "display_name": "Python 3",
   "language": "python",
   "name": "python3"
  },
  "language_info": {
   "codemirror_mode": {
    "name": "ipython",
    "version": 3
   },
   "file_extension": ".py",
   "mimetype": "text/x-python",
   "name": "python",
   "nbconvert_exporter": "python",
   "pygments_lexer": "ipython3",
   "version": "3.7.6"
  }
 },
 "nbformat": 4,
 "nbformat_minor": 4
}
